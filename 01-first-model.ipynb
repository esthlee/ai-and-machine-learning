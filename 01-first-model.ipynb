{
  "cells": [
    {
      "cell_type": "markdown",
      "id": "8184a625",
      "metadata": {
        "id": "8184a625"
      },
      "source": [
        "# 1장. 텐서플로 소개"
      ]
    },
    {
      "cell_type": "markdown",
      "id": "8974d263",
      "metadata": {
        "id": "8974d263"
      },
      "source": [
        "<table align=\"left\">\n",
        "    <tr>\n",
        "        <td>\n",
        "            <a href=\"https://colab.research.google.com/github/rickiepark/aiml4coders/blob/main/ch01/01-first-model.ipynb\" target=\"_parent\"><img src=\"https://colab.research.google.com/assets/colab-badge.svg\" alt=\"Open In Colab\"/></a>\n",
        "        </td>\n",
        "    </tr>\n",
        "</table>"
      ]
    },
    {
      "cell_type": "markdown",
      "id": "7f1f7882",
      "metadata": {
        "id": "7f1f7882"
      },
      "source": [
        "## 머신러닝 시작하기"
      ]
    },
    {
      "cell_type": "code",
      "execution_count": 1,
      "id": "1f5bacb1",
      "metadata": {
        "id": "1f5bacb1"
      },
      "outputs": [],
      "source": [
        "import tensorflow as tf\n",
        "import numpy as np"
      ]
    },
    {
      "cell_type": "code",
      "execution_count": 2,
      "id": "ebeb1ec1",
      "metadata": {
        "id": "ebeb1ec1"
      },
      "outputs": [],
      "source": [
        "model = tf.keras.Sequential([\n",
        "    tf.keras.Input(shape=(1,)),\n",
        "    tf.keras.layers.Dense(units=1)\n",
        "])"
      ]
    },
    {
      "cell_type": "code",
      "execution_count": 3,
      "id": "4b170fc8",
      "metadata": {
        "id": "4b170fc8"
      },
      "outputs": [],
      "source": [
        "model.compile(optimizer='sgd', loss='mean_squared_error')"
      ]
    },
    {
      "cell_type": "code",
      "execution_count": 4,
      "id": "00521a06",
      "metadata": {
        "id": "00521a06"
      },
      "outputs": [],
      "source": [
        "xs = np.array([-1.0, 0.0, 1.0, 2.0, 3.0, 4.0], dtype=float)\n",
        "ys = np.array([-3.0, -1.0, 1.0, 3.0, 5.0, 7.0], dtype=float)"
      ]
    },
    {
      "cell_type": "code",
      "execution_count": null,
      "id": "9a957036",
      "metadata": {
        "colab": {
          "base_uri": "https://localhost:8080/"
        },
        "id": "9a957036",
        "outputId": "55bcdd3b-d2c2-4a87-dbfc-487e1134491e"
      },
      "outputs": [],
      "source": [
        "model.fit(xs, ys, epochs=500)"
      ]
    },
    {
      "cell_type": "code",
      "execution_count": null,
      "id": "9d627c4a",
      "metadata": {
        "colab": {
          "base_uri": "https://localhost:8080/"
        },
        "id": "9d627c4a",
        "outputId": "17c6d2d9-b8f6-4842-bb8a-3b450cb33c97"
      },
      "outputs": [],
      "source": [
        "print(model.predict(np.array([10.0, 11.0, 12.0])))"
      ]
    },
    {
      "cell_type": "code",
      "execution_count": null,
      "id": "0d0144cd",
      "metadata": {
        "colab": {
          "base_uri": "https://localhost:8080/"
        },
        "id": "0d0144cd",
        "outputId": "77b99181-556d-4f28-b3da-eb6620c46217"
      },
      "outputs": [],
      "source": [
        "print(\"신경망이 학습한 것: {}\".format(model.layers[0].get_weights()))"
      ]
    }
  ],
  "metadata": {
    "accelerator": "GPU",
    "colab": {
      "provenance": []
    },
    "gpuClass": "standard",
    "kernelspec": {
      "display_name": "venv",
      "language": "python",
      "name": "python3"
    },
    "language_info": {
      "codemirror_mode": {
        "name": "ipython",
        "version": 3
      },
      "file_extension": ".py",
      "mimetype": "text/x-python",
      "name": "python",
      "nbconvert_exporter": "python",
      "pygments_lexer": "ipython3",
      "version": "3.11.9"
    }
  },
  "nbformat": 4,
  "nbformat_minor": 5
}
