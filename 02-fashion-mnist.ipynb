{
  "cells": [
    {
      "cell_type": "markdown",
      "id": "1c73274e",
      "metadata": {
        "id": "1c73274e"
      },
      "source": [
        "# 2장. 컴퓨터 비전 소개"
      ]
    },
    {
      "cell_type": "markdown",
      "id": "f3d9f93f",
      "metadata": {
        "id": "f3d9f93f"
      },
      "source": [
        "<table align=\"left\">\n",
        "    <tr>\n",
        "        <td>\n",
        "            <a href=\"https://colab.research.google.com/github/rickiepark/aiml4coders/blob/main/ch02/02-fashion-mnist.ipynb\" target=\"_parent\"><img src=\"https://colab.research.google.com/assets/colab-badge.svg\" alt=\"Open In Colab\"/></a>\n",
        "        </td>\n",
        "    </tr>\n",
        "</table>"
      ]
    },
    {
      "cell_type": "markdown",
      "id": "ec82eae7",
      "metadata": {
        "id": "ec82eae7"
      },
      "source": [
        "## 의류 아이템 인식하기"
      ]
    },
    {
      "cell_type": "code",
      "execution_count": null,
      "id": "c0502170",
      "metadata": {
        "colab": {
          "base_uri": "https://localhost:8080/"
        },
        "id": "c0502170",
        "outputId": "85ab5fe3-e9df-4b2f-8b3a-13d5a7a1ac79"
      },
      "outputs": [],
      "source": [
        "import tensorflow as tf\n",
        "\n",
        "data = tf.keras.datasets.fashion_mnist\n",
        "(training_images, training_labels), (test_images, test_labels) = data.load_data()"
      ]
    },
    {
      "cell_type": "code",
      "execution_count": 2,
      "id": "ecd7ce11",
      "metadata": {
        "id": "ecd7ce11"
      },
      "outputs": [],
      "source": [
        "training_images  = training_images / 255.0\n",
        "test_images = test_images / 255.0"
      ]
    },
    {
      "cell_type": "code",
      "execution_count": 3,
      "id": "dfdd88eb",
      "metadata": {
        "id": "dfdd88eb"
      },
      "outputs": [],
      "source": [
        "model = tf.keras.models.Sequential([\n",
        "    tf.keras.layers.Flatten(input_shape=(28, 28)),\n",
        "    tf.keras.layers.Dense(128, activation=tf.nn.relu),\n",
        "    tf.keras.layers.Dense(10, activation=tf.nn.softmax)\n",
        "])"
      ]
    },
    {
      "cell_type": "code",
      "execution_count": 4,
      "id": "12a4c959",
      "metadata": {
        "id": "12a4c959"
      },
      "outputs": [],
      "source": [
        "model.compile(optimizer='adam',\n",
        "              loss='sparse_categorical_crossentropy',\n",
        "              metrics=['accuracy'])"
      ]
    },
    {
      "cell_type": "code",
      "execution_count": null,
      "id": "2e9dfd2f",
      "metadata": {
        "colab": {
          "base_uri": "https://localhost:8080/"
        },
        "id": "2e9dfd2f",
        "outputId": "2bd6d6bc-718d-41ca-d127-50e1ddaa133c",
        "scrolled": true
      },
      "outputs": [],
      "source": [
        "model.fit(training_images, training_labels, epochs=5)"
      ]
    },
    {
      "cell_type": "code",
      "execution_count": null,
      "id": "9818ba53",
      "metadata": {
        "colab": {
          "base_uri": "https://localhost:8080/"
        },
        "id": "9818ba53",
        "outputId": "908ebf84-9138-46bc-e86f-5dfee50c80e8"
      },
      "outputs": [],
      "source": [
        "model.evaluate(test_images, test_labels)"
      ]
    },
    {
      "cell_type": "markdown",
      "id": "9f5d0aa2",
      "metadata": {
        "id": "9f5d0aa2"
      },
      "source": [
        "## 모델 출력 살펴보기"
      ]
    },
    {
      "cell_type": "code",
      "execution_count": null,
      "id": "d19eeb12",
      "metadata": {
        "colab": {
          "base_uri": "https://localhost:8080/"
        },
        "id": "d19eeb12",
        "outputId": "b80c9960-2798-492b-8928-ce9b90541713"
      },
      "outputs": [],
      "source": [
        "classifications = model.predict(test_images)\n",
        "print(classifications[0])\n",
        "print(test_labels[0])"
      ]
    },
    {
      "cell_type": "markdown",
      "id": "6348be03",
      "metadata": {
        "id": "6348be03"
      },
      "source": [
        "## 더 오래 훈련하기 - 과대적합"
      ]
    },
    {
      "cell_type": "code",
      "execution_count": null,
      "id": "e3eb07ef",
      "metadata": {
        "colab": {
          "base_uri": "https://localhost:8080/"
        },
        "id": "e3eb07ef",
        "outputId": "acf86152-20b3-4f00-9bcf-e5f6520888a7"
      },
      "outputs": [],
      "source": [
        "model = tf.keras.models.Sequential([\n",
        "    tf.keras.layers.Flatten(input_shape=(28, 28)),\n",
        "    tf.keras.layers.Dense(128, activation=tf.nn.relu),\n",
        "    tf.keras.layers.Dense(10, activation=tf.nn.softmax)\n",
        "])\n",
        "\n",
        "model.compile(optimizer='adam',\n",
        "              loss='sparse_categorical_crossentropy',\n",
        "              metrics=['accuracy'])\n",
        "\n",
        "model.fit(training_images, training_labels, epochs=50)"
      ]
    },
    {
      "cell_type": "code",
      "execution_count": null,
      "id": "e19caca4",
      "metadata": {
        "colab": {
          "base_uri": "https://localhost:8080/"
        },
        "id": "e19caca4",
        "outputId": "a7faee03-851b-42fc-ca70-5362189e82b7"
      },
      "outputs": [],
      "source": [
        "model.evaluate(test_images, test_labels)"
      ]
    },
    {
      "cell_type": "markdown",
      "id": "c0b7a18b",
      "metadata": {
        "id": "c0b7a18b"
      },
      "source": [
        "## 훈련 조기 종료"
      ]
    },
    {
      "cell_type": "code",
      "execution_count": 10,
      "id": "9a8427e6",
      "metadata": {
        "id": "9a8427e6"
      },
      "outputs": [],
      "source": [
        "class myCallback(tf.keras.callbacks.Callback):\n",
        "    def on_epoch_end(self, epoch, logs={}):\n",
        "        if(logs.get('accuracy')>0.95):\n",
        "            print(\"\\n정확도 95%에 도달하여 훈련을 멈춥니다!\")\n",
        "            self.model.stop_training = True"
      ]
    },
    {
      "cell_type": "code",
      "execution_count": 11,
      "id": "bc344090",
      "metadata": {
        "id": "bc344090"
      },
      "outputs": [],
      "source": [
        "callbacks = myCallback()"
      ]
    },
    {
      "cell_type": "code",
      "execution_count": null,
      "id": "407a2426",
      "metadata": {
        "colab": {
          "base_uri": "https://localhost:8080/"
        },
        "id": "407a2426",
        "outputId": "37bca795-5f06-4a25-8290-9f40c63a3785"
      },
      "outputs": [],
      "source": [
        "model = tf.keras.models.Sequential([\n",
        "    tf.keras.layers.Flatten(input_shape=(28, 28)),\n",
        "    tf.keras.layers.Dense(128, activation=tf.nn.relu),\n",
        "    tf.keras.layers.Dense(10, activation=tf.nn.softmax)\n",
        "])\n",
        "\n",
        "model.compile(optimizer='adam', \n",
        "               loss='sparse_categorical_crossentropy', \n",
        "               metrics=['accuracy'])\n",
        "\n",
        "model.fit(training_images, training_labels, epochs=50, \n",
        "          callbacks=[callbacks])"
      ]
    }
  ],
  "metadata": {
    "accelerator": "GPU",
    "colab": {
      "provenance": []
    },
    "gpuClass": "standard",
    "kernelspec": {
      "display_name": "venv",
      "language": "python",
      "name": "python3"
    },
    "language_info": {
      "codemirror_mode": {
        "name": "ipython",
        "version": 3
      },
      "file_extension": ".py",
      "mimetype": "text/x-python",
      "name": "python",
      "nbconvert_exporter": "python",
      "pygments_lexer": "ipython3",
      "version": "3.11.9"
    }
  },
  "nbformat": 4,
  "nbformat_minor": 5
}
